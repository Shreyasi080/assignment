{
 "cells": [
  {
   "cell_type": "code",
   "execution_count": 6,
   "id": "36504754-8fb9-4d0b-8c23-2cc953f25975",
   "metadata": {},
   "outputs": [],
   "source": [
    "import numpy as np\n",
    "import pandas as pd"
   ]
  },
  {
   "cell_type": "code",
   "execution_count": 7,
   "id": "d5dbf17f-c2b6-4ee7-af65-98ccf367e063",
   "metadata": {
    "scrolled": true
   },
   "outputs": [],
   "source": [
    "df = pd.read_csv(r\"C:\\Users\\Shreyasi\\Msc\\online_shoppers_intention.csv\")"
   ]
  },
  {
   "cell_type": "code",
   "execution_count": 8,
   "id": "1933b4f2-e0af-4a1d-bc7a-50aa6a127195",
   "metadata": {},
   "outputs": [],
   "source": [
    "from sklearn.model_selection import train_test_split\n",
    "x_train, x_test, y_train, y_test = train_test_split(df.drop(columns=['Revenue']),df['Revenue'],test_size=0.2)"
   ]
  },
  {
   "cell_type": "code",
   "execution_count": 9,
   "id": "89979df3-53de-40b6-a2a0-4865e9872db0",
   "metadata": {},
   "outputs": [],
   "source": [
    "from sklearn.preprocessing import OrdinalEncoder\n",
    "from sklearn.preprocessing import OneHotEncoder\n",
    "from sklearn.preprocessing import LabelEncoder"
   ]
  },
  {
   "cell_type": "code",
   "execution_count": 10,
   "id": "ccc51b91-7d00-42f4-89f3-32550cb151e3",
   "metadata": {},
   "outputs": [],
   "source": [
    "from sklearn.compose import ColumnTransformer\n",
    "transformer = ColumnTransformer(transformers=[\n",
    "    ('tnf1', OrdinalEncoder(categories=[['Feb', 'Mar', 'May', 'Oct', 'June', 'Jul', 'Aug', 'Nov', 'Sep',\n",
    "       'Dec']]),['Month']),\n",
    "    ('tnf2', OneHotEncoder(),['VisitorType','Weekend'])\n",
    "],remainder='passthrough')"
   ]
  },
  {
   "cell_type": "code",
   "execution_count": 11,
   "id": "76feb088-5186-4d80-8dec-a56b64f144c7",
   "metadata": {},
   "outputs": [],
   "source": [
    "x_train_new = transformer.fit_transform(x_train)"
   ]
  },
  {
   "cell_type": "code",
   "execution_count": 12,
   "id": "bde8c1a1-c8d0-4b2d-901e-76885e2f6f5c",
   "metadata": {},
   "outputs": [],
   "source": [
    "x_test_new = transformer.transform(x_test)"
   ]
  },
  {
   "cell_type": "code",
   "execution_count": 13,
   "id": "67289b7e-812d-423c-8b8f-0822b536186a",
   "metadata": {},
   "outputs": [
    {
     "data": {
      "text/plain": [
       "array([0, 0, 0, ..., 1, 0, 0], shape=(9864,))"
      ]
     },
     "execution_count": 13,
     "metadata": {},
     "output_type": "execute_result"
    }
   ],
   "source": [
    "le = LabelEncoder()\n",
    "y_train_new = le.fit_transform(y_train)\n",
    "y_train_new"
   ]
  },
  {
   "cell_type": "code",
   "execution_count": 14,
   "id": "a3c37647-f5e4-46c4-980c-437e3e0876fc",
   "metadata": {},
   "outputs": [
    {
     "data": {
      "text/plain": [
       "array([0, 1, 0, ..., 0, 0, 0], shape=(2466,))"
      ]
     },
     "execution_count": 14,
     "metadata": {},
     "output_type": "execute_result"
    }
   ],
   "source": [
    "y_test_new = le.transform(y_test)\n",
    "y_test_new"
   ]
  },
  {
   "cell_type": "code",
   "execution_count": 15,
   "id": "ccc14c8e-aa2f-40f5-b686-136969539d03",
   "metadata": {},
   "outputs": [],
   "source": [
    "from sklearn.preprocessing import StandardScaler\n",
    "scaler = StandardScaler()\n",
    "x_train_new = scaler.fit_transform(x_train_new)\n",
    "x_test_new = scaler.transform(x_test_new)"
   ]
  },
  {
   "cell_type": "code",
   "execution_count": 17,
   "id": "708ca0d6-62ef-4ae1-b353-1ecf40ca91bb",
   "metadata": {},
   "outputs": [
    {
     "name": "stdout",
     "output_type": "stream",
     "text": [
      "Logistic Regression model accuracy (in %): 88.32116788321169\n"
     ]
    }
   ],
   "source": [
    "from sklearn.linear_model import LogisticRegression\n",
    "from sklearn.metrics import accuracy_score\n",
    "clf = LogisticRegression(random_state=0)\n",
    "clf.fit(x_train_new, y_train_new)\n",
    "y_pred1 = clf.predict(x_test_new)\n",
    "acc = accuracy_score(y_test_new, y_pred1)\n",
    "print(\"Logistic Regression model accuracy (in %):\", acc*100)\n"
   ]
  },
  {
   "cell_type": "code",
   "execution_count": 18,
   "id": "4bf8690c-418f-4f06-986d-ec5726c514ea",
   "metadata": {},
   "outputs": [
    {
     "name": "stdout",
     "output_type": "stream",
     "text": [
      "Random Forest model accuracy: 90.2676399026764\n"
     ]
    }
   ],
   "source": [
    "from sklearn.ensemble import RandomForestClassifier\n",
    "from sklearn.metrics import accuracy_score, classification_report\n",
    "rf = RandomForestClassifier()\n",
    "rf.fit(x_train_new, y_train_new)\n",
    "y_pred2 = rf.predict(x_test_new)\n",
    "accuracy = accuracy_score(y_test_new, y_pred2)\n",
    "classification_rep = classification_report(y_test_new, y_pred2)\n",
    "print(\"Random Forest model accuracy:\", accuracy*100)\n"
   ]
  },
  {
   "cell_type": "code",
   "execution_count": 19,
   "id": "2135e979-22d4-409f-a689-bd3a601fac6a",
   "metadata": {},
   "outputs": [
    {
     "name": "stdout",
     "output_type": "stream",
     "text": [
      "KNN model accuracy: 86.94241686942416\n"
     ]
    }
   ],
   "source": [
    "from sklearn.neighbors import KNeighborsClassifier\n",
    "knn = KNeighborsClassifier(n_neighbors=5)\n",
    "knn.fit(x_train_new, y_train_new)\n",
    "y_pred3 = knn.predict(x_test_new)\n",
    "accu = accuracy_score(y_test_new, y_pred3)\n",
    "print(\"KNN model accuracy:\", accu*100)\n"
   ]
  },
  {
   "cell_type": "code",
   "execution_count": 27,
   "id": "eec1e556-c4b6-42c9-acec-c8646976b9dd",
   "metadata": {},
   "outputs": [
    {
     "name": "stdout",
     "output_type": "stream",
     "text": [
      "AdaBoost model accuracy: 88.84833738848337\n"
     ]
    }
   ],
   "source": [
    "from sklearn.ensemble import AdaBoostClassifier\n",
    "from sklearn.tree import DecisionTreeClassifier\n",
    "from sklearn.metrics import accuracy_score, classification_report\n",
    "base = DecisionTreeClassifier(max_depth=1)\n",
    "adaboost = AdaBoostClassifier(estimator= base, n_estimators=50, random_state=42)\n",
    "adaboost.fit(x_train_new, y_train_new)\n",
    "y_pred4 = adaboost.predict(x_test_new)\n",
    "print(\"AdaBoost model accuracy:\", accuracy_score(y_test_new, y_pred4)*100)\n"
   ]
  },
  {
   "cell_type": "code",
   "execution_count": 28,
   "id": "75de4072-4e9f-40db-b0f7-1a0bedccd886",
   "metadata": {},
   "outputs": [
    {
     "name": "stdout",
     "output_type": "stream",
     "text": [
      "Gradient Boosting model accuracy:  90.34874290348743\n"
     ]
    }
   ],
   "source": [
    "from sklearn.ensemble import GradientBoostingClassifier\n",
    "gbc = GradientBoostingClassifier(n_estimators=300,\n",
    "\t\t\t\t\t\t\t\tlearning_rate=0.05,\n",
    "\t\t\t\t\t\t\t\trandom_state=100,\n",
    "\t\t\t\t\t\t\t\tmax_features=5 )\n",
    "gbc.fit(x_train_new, y_train_new)\n",
    "y_pred5 = gbc.predict(x_test_new)\n",
    "acc = accuracy_score(y_test_new, y_pred5)\n",
    "print(\"Gradient Boosting model accuracy: \", acc*100)\n"
   ]
  },
  {
   "cell_type": "code",
   "execution_count": 29,
   "id": "8be4a8be-8067-4b01-a5a2-bd34e314c93e",
   "metadata": {},
   "outputs": [
    {
     "name": "stdout",
     "output_type": "stream",
     "text": [
      "SVM model accuracy:  87.75344687753447\n"
     ]
    }
   ],
   "source": [
    "from sklearn.svm import SVC\n",
    "svm = SVC(kernel=\"rbf\", gamma=0.5, C=1.0)\n",
    "svm.fit(x_train_new, y_train_new)\n",
    "y_pred6 = svm.predict(x_test_new)\n",
    "acc = accuracy_score(y_test_new, y_pred6)\n",
    "print(\"SVM model accuracy: \", acc*100)\n"
   ]
  },
  {
   "cell_type": "code",
   "execution_count": null,
   "id": "887f1f72-4394-4edc-b0ce-e2527c8347c0",
   "metadata": {},
   "outputs": [],
   "source": []
  }
 ],
 "metadata": {
  "kernelspec": {
   "display_name": "Python 3 (ipykernel)",
   "language": "python",
   "name": "python3"
  },
  "language_info": {
   "codemirror_mode": {
    "name": "ipython",
    "version": 3
   },
   "file_extension": ".py",
   "mimetype": "text/x-python",
   "name": "python",
   "nbconvert_exporter": "python",
   "pygments_lexer": "ipython3",
   "version": "3.12.2"
  }
 },
 "nbformat": 4,
 "nbformat_minor": 5
}
